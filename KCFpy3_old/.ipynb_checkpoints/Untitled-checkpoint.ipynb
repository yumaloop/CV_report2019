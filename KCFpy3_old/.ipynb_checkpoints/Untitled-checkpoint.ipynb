{
 "cells": [
  {
   "cell_type": "code",
   "execution_count": 1,
   "metadata": {},
   "outputs": [],
   "source": [
    "import numpy as np \n",
    "import cv2\n",
    "\n",
    "# constant\n",
    "NUM_SECTOR = 9\n",
    "FLT_EPSILON = 1e-07"
   ]
  },
  {
   "cell_type": "code",
   "execution_count": null,
   "metadata": {},
   "outputs": [],
   "source": []
  },
  {
   "cell_type": "code",
   "execution_count": null,
   "metadata": {},
   "outputs": [],
   "source": []
  },
  {
   "cell_type": "code",
   "execution_count": null,
   "metadata": {},
   "outputs": [],
   "source": []
  },
  {
   "cell_type": "code",
   "execution_count": 2,
   "metadata": {},
   "outputs": [],
   "source": [
    "def normalizeAndTruncate(mapp, alfa):\n",
    "    sizeX = int(mapp['sizeX'])\n",
    "    sizeY = int(mapp['sizeY'])\n",
    "    p  = NUM_SECTOR\n",
    "    xp = NUM_SECTOR * 3\n",
    "    pp = NUM_SECTOR * 12\n",
    "\n",
    "    ### 50x speedup\n",
    "    # idx = np.arange(0, int(sizeX * sizeY * mapp['numFeatures']), int(mapp['numFeatures'])).reshape(int(sizeX * sizeY), 1) + np.arange(p)\n",
    "    idx = np.arange(0, int(sizeX * sizeY * mapp['numFeatures']), int(mapp['numFeatures'])) + np.arange(int(sizeX * sizeY))\n",
    "    partOfNorm = np.sum(mapp['map'][idx] ** 2, axis=1) ### ~0.0002s\n",
    "\n",
    "    sizeX, sizeY = sizeX - 2, sizeY - 2\n",
    "    \n",
    "    ### 30x speedup\n",
    "    newData = func3(partOfNorm, mapp['map'], sizeX, sizeY, p, xp, pp)\n",
    "    ###\n",
    "\n",
    "    # truncation\n",
    "    newData[newData > alfa] = alfa\n",
    "\n",
    "    mapp['numFeatures'] = pp\n",
    "    mapp['sizeX'] = sizeX\n",
    "    mapp['sizeY'] = sizeY\n",
    "    mapp['map'] = newData\n",
    "\n",
    "    return mapp"
   ]
  },
  {
   "cell_type": "code",
   "execution_count": null,
   "metadata": {},
   "outputs": [],
   "source": []
  },
  {
   "cell_type": "code",
   "execution_count": null,
   "metadata": {},
   "outputs": [],
   "source": []
  },
  {
   "cell_type": "code",
   "execution_count": null,
   "metadata": {},
   "outputs": [],
   "source": []
  },
  {
   "cell_type": "code",
   "execution_count": null,
   "metadata": {},
   "outputs": [],
   "source": []
  }
 ],
 "metadata": {
  "kernelspec": {
   "display_name": "Python 3",
   "language": "python",
   "name": "python3"
  },
  "language_info": {
   "codemirror_mode": {
    "name": "ipython",
    "version": 3
   },
   "file_extension": ".py",
   "mimetype": "text/x-python",
   "name": "python",
   "nbconvert_exporter": "python",
   "pygments_lexer": "ipython3",
   "version": "3.7.4"
  }
 },
 "nbformat": 4,
 "nbformat_minor": 2
}
