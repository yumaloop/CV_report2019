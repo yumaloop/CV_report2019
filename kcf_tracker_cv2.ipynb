{
 "cells": [
  {
   "cell_type": "code",
   "execution_count": 1,
   "metadata": {},
   "outputs": [
    {
     "name": "stderr",
     "output_type": "stream",
     "text": [
      "/usr/local/lib/python3.7/site-packages/matplotlib/__init__.py:1003: UserWarning: Duplicate key in file \"/Users/uchiumi/.matplotlib/matplotlibrc\", line #2\n",
      "  (fname, cnt))\n"
     ]
    }
   ],
   "source": [
    "import cv2\n",
    "import numpy as np\n",
    "\n",
    "import matplotlib.pyplot as plt\n",
    "%matplotlib inline"
   ]
  },
  {
   "cell_type": "code",
   "execution_count": null,
   "metadata": {},
   "outputs": [],
   "source": [
    "def frame_resize(frame, n=2):\n",
    "    \"\"\"\n",
    "    スクリーンショットを撮りたい関係で1/4サイズに縮小\n",
    "    \"\"\"\n",
    "    return cv2.resize(frame, (int(frame.shape[1]/2), int(frame.shape[0]/2)))"
   ]
  },
  {
   "cell_type": "markdown",
   "metadata": {},
   "source": [
    "```python\n",
    "import cv2\n",
    "\n",
    "# Boosting\n",
    "tracker = cv2.TrackerBoosting_create()\n",
    "\n",
    "# MIL\n",
    "tracker = cv2.TrackerMIL_create()\n",
    "\n",
    "# KCF\n",
    "tracker = cv2.TrackerKCF_create()\n",
    "\n",
    "# TLD (GPUコンパイラのエラーが出ている?)\n",
    "tracker = cv2.TrackerTLD_create()\n",
    "\n",
    "# MedianFlow\n",
    "tracker = cv2.TrackerMedianFlow_create()\n",
    "\n",
    "# GOTURN # モデルが無いよって怒られた\n",
    "tracker = cv2.TrackerGOTURN_create()\n",
    "\n",
    "'''\n",
    "# https://github.com/opencv/opencv_contrib/issues/941#issuecomment-343384500\n",
    "# https://github.com/Auron-X/GOTURN-Example\n",
    "# http://cs.stanford.edu/people/davheld/public/GOTURN/trained_model/tracker.caffemodel\n",
    "'''\n",
    "\n",
    "```"
   ]
  },
  {
   "cell_type": "code",
   "execution_count": null,
   "metadata": {},
   "outputs": [],
   "source": [
    "\"\"\"\n",
    "Tracking手法を選ぶ。適当にコメントアウトして実行する。\n",
    "\"\"\"\n",
    "\n",
    "# KCF\n",
    "tracker = cv2.TrackerKCF_create()\n",
    "cap = cv2.VideoCapture(0)\n",
    "\n",
    "while True:\n",
    "    ret, frame = cap.read()\n",
    "    if not ret:\n",
    "        continue\n",
    "    frame = frame_resize(frame)\n",
    "    bbox = (0,0,10,10)\n",
    "    bbox = cv2.selectROI(frame, False)\n",
    "    ok = tracker.init(frame, bbox)\n",
    "    cv2.destroyAllWindows()\n",
    "    break\n",
    "\n",
    "while True:\n",
    "    # VideoCaptureから1フレーム読み込む\n",
    "    ret, frame = cap.read()\n",
    "    frame = frame_resize(frame)\n",
    "    if not ret:\n",
    "        k = cv2.waitKey(1)\n",
    "        if k == 27 :\n",
    "            break\n",
    "        continue\n",
    "\n",
    "    # Start timer\n",
    "    timer = cv2.getTickCount()\n",
    "\n",
    "    # トラッカーをアップデートする\n",
    "    track, bbox = tracker.update(frame)\n",
    "\n",
    "    # FPSを計算する\n",
    "    fps = cv2.getTickFrequency() / (cv2.getTickCount() - timer);\n",
    "\n",
    "    # 検出した場所に四角を書く\n",
    "    if track:\n",
    "        # Tracking success\n",
    "        p1 = (int(bbox[0]), int(bbox[1]))\n",
    "        p2 = (int(bbox[0] + bbox[2]), int(bbox[1] + bbox[3]))\n",
    "        cv2.rectangle(frame, p1, p2, (0,255,0), 2, 1)\n",
    "    else :\n",
    "        # トラッキングが外れたら警告を表示する\n",
    "        cv2.putText(frame, \"Failure\", (10,50), cv2.FONT_HERSHEY_SIMPLEX, 0.5, (0,255,0), 1, cv2.LINE_AA);\n",
    "\n",
    "    # FPSを表示する\n",
    "    cv2.putText(frame, \"FPS : \" + str(int(fps)), (10,20), cv2.FONT_HERSHEY_SIMPLEX, 0.5, (0,255,0), 1, cv2.LINE_AA);\n",
    "\n",
    "    # 加工済の画像を表示する\n",
    "    cv2.imshow(\"Tracking\", frame)\n",
    "\n",
    "    # キー入力を1ms待って、k が27（ESC）だったらBreakする\n",
    "    k = cv2.waitKey(1)\n",
    "    if k == 27 :\n",
    "        break\n",
    "\n",
    "# キャプチャをリリースして、ウィンドウをすべて閉じる\n",
    "cap.release()\n",
    "cv2.destroyAllWindows()"
   ]
  },
  {
   "cell_type": "code",
   "execution_count": null,
   "metadata": {},
   "outputs": [],
   "source": []
  },
  {
   "cell_type": "code",
   "execution_count": null,
   "metadata": {},
   "outputs": [],
   "source": []
  },
  {
   "cell_type": "code",
   "execution_count": null,
   "metadata": {},
   "outputs": [],
   "source": []
  }
 ],
 "metadata": {
  "kernelspec": {
   "display_name": "Python 3",
   "language": "python",
   "name": "python3"
  },
  "language_info": {
   "codemirror_mode": {
    "name": "ipython",
    "version": 3
   },
   "file_extension": ".py",
   "mimetype": "text/x-python",
   "name": "python",
   "nbconvert_exporter": "python",
   "pygments_lexer": "ipython3",
   "version": "3.7.4"
  }
 },
 "nbformat": 4,
 "nbformat_minor": 2
}
